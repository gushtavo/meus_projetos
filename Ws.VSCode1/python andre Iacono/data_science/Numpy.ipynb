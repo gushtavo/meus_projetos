{
 "cells": [
  {
   "cell_type": "markdown",
   "metadata": {},
   "source": [
    "Numpy"
   ]
  },
  {
   "cell_type": "code",
   "execution_count": 2,
   "metadata": {},
   "outputs": [],
   "source": [
    "import numpy as np\n",
    "import sys\n"
   ]
  },
  {
   "cell_type": "code",
   "execution_count": null,
   "metadata": {},
   "outputs": [],
   "source": [
    "'''\n",
    "Criando Arrays com numpy\n",
    "'''\n",
    "\n",
    "listaA = [1, 2, 3, 4, 5]\n",
    "listaB = np.array([1, 2, 3, 4, 5])"
   ]
  },
  {
   "cell_type": "code",
   "execution_count": null,
   "metadata": {},
   "outputs": [],
   "source": [
    "print(listaA)\n",
    "print(listaB)"
   ]
  },
  {
   "cell_type": "code",
   "execution_count": null,
   "metadata": {},
   "outputs": [],
   "source": [
    "sys.getsizeof(listaA)\n"
   ]
  },
  {
   "cell_type": "code",
   "execution_count": null,
   "metadata": {},
   "outputs": [],
   "source": [
    "listaB.nbytes"
   ]
  },
  {
   "cell_type": "code",
   "execution_count": null,
   "metadata": {},
   "outputs": [],
   "source": [
    "'''\n",
    "criando Arrays/listas em 1D, 2D, 3D\n",
    "\n",
    "array 1D\n",
    "'''\n",
    "\n",
    "df1 = np.array([1, 3, 5])\n",
    "print(df1)\n",
    "df1.shape\n",
    "df1.ndim\n",
    "df1.dtype"
   ]
  },
  {
   "cell_type": "code",
   "execution_count": 3,
   "metadata": {},
   "outputs": [
    {
     "name": "stdout",
     "output_type": "stream",
     "text": [
      "[[1 3 5]\n",
      " [2 4 5]]\n"
     ]
    },
    {
     "data": {
      "text/plain": [
       "dtype('int32')"
      ]
     },
     "execution_count": 3,
     "metadata": {},
     "output_type": "execute_result"
    }
   ],
   "source": [
    "'''\n",
    "criando Arrays/listas em 1D, 2D, 3D\n",
    "\n",
    "array 2D\n",
    "'''\n",
    "df2 = np.array([[1, 3, 5], [2, 4, 5]])\n",
    "print(df2)\n",
    "df2.shape\n",
    "df2.ndim\n",
    "df2.dtype"
   ]
  },
  {
   "cell_type": "code",
   "execution_count": null,
   "metadata": {},
   "outputs": [],
   "source": [
    "'''\n",
    "criando Arrays/listas em 1D, 2D, 3D\n",
    "\n",
    "array 3D\n",
    "'''\n",
    "df3 = np.array([[[1, 3], [5, 7]], [[2, 4], [6, 8]]])\n",
    "print(df3)\n",
    "df3.shape\n",
    "df3.ndim\n",
    "df3.dtype"
   ]
  },
  {
   "cell_type": "code",
   "execution_count": null,
   "metadata": {},
   "outputs": [],
   "source": [
    "'''\n",
    "somando duas arrays/listas\n",
    "'''\n",
    "a = np.array([2, 4, 6])\n",
    "b = np.array([2, 4, 6])\n",
    "soma = np.add(a, b)\n",
    "print(soma)"
   ]
  },
  {
   "cell_type": "code",
   "execution_count": null,
   "metadata": {},
   "outputs": [],
   "source": [
    "'''\n",
    "selecionado itens em arrays\n",
    "\n",
    "# array [row(linhas), colunms(colunas)]\n",
    "'''\n",
    "lista = np.array([[1, 2, 3, 4], [5, 6, 7, 8]])\n",
    "print(lista[0])\n",
    "print(lista[1])\n",
    "print(lista[:, 2])\n",
    "print(lista[1, 3])"
   ]
  }
 ],
 "metadata": {
  "kernelspec": {
   "display_name": "Python 3",
   "language": "python",
   "name": "python3"
  },
  "language_info": {
   "codemirror_mode": {
    "name": "ipython",
    "version": 3
   },
   "file_extension": ".py",
   "mimetype": "text/x-python",
   "name": "python",
   "nbconvert_exporter": "python",
   "pygments_lexer": "ipython3",
   "version": "3.12.1"
  }
 },
 "nbformat": 4,
 "nbformat_minor": 2
}
